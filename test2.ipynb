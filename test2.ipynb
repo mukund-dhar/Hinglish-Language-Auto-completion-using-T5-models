{
 "cells": [
  {
   "cell_type": "code",
   "execution_count": 1,
   "metadata": {},
   "outputs": [
    {
     "name": "stdout",
     "output_type": "stream",
     "text": [
      "WARNING:tensorflow:From c:\\Users\\mukun\\anaconda3\\lib\\site-packages\\keras\\src\\losses.py:2976: The name tf.losses.sparse_softmax_cross_entropy is deprecated. Please use tf.compat.v1.losses.sparse_softmax_cross_entropy instead.\n",
      "\n"
     ]
    }
   ],
   "source": [
    "import numpy as np\n",
    "import tensorflow as tf\n",
    "from tensorflow.keras import layers\n",
    "from tensorflow.keras.models import Model, load_model\n",
    "from tensorflow.keras.utils import plot_model\n",
    "import matplotlib.pyplot as plt\n",
    "plt.style.use('seaborn')"
   ]
  },
  {
   "cell_type": "code",
   "execution_count": 2,
   "metadata": {},
   "outputs": [],
   "source": [
    "def get_text():\n",
    "  path = tf.keras.utils.get_file('nietzsche.txt',\n",
    "                               origin='https://s3.amazonaws.com/text-datasets/nietzsche.txt') \n",
    "  text = open(path).read().lower()\n",
    "  return text"
   ]
  },
  {
   "cell_type": "code",
   "execution_count": 3,
   "metadata": {},
   "outputs": [
    {
     "name": "stdout",
     "output_type": "stream",
     "text": [
      "Character length: 600893\n"
     ]
    }
   ],
   "source": [
    "text_data = get_text()\n",
    "print(\"Character length: {0}\".format(len(text_data)))"
   ]
  },
  {
   "cell_type": "code",
   "execution_count": 4,
   "metadata": {},
   "outputs": [
    {
     "name": "stdout",
     "output_type": "stream",
     "text": [
      "preface\n",
      "\n",
      "\n",
      "supposing that truth is a woman--what then? is there not ground\n",
      "for suspecting that all ph\n"
     ]
    }
   ],
   "source": [
    "print(text_data[:100])"
   ]
  },
  {
   "cell_type": "code",
   "execution_count": 5,
   "metadata": {},
   "outputs": [],
   "source": [
    "def preprocess_split(text, max_len, step):\n",
    "  sentences, next_char = [], []\n",
    "  for i in range(0, len(text) - max_len, step):\n",
    "    sentences.append(text[i: i + max_len])\n",
    "    next_char.append(text[i + max_len])\n",
    "  char_lst = sorted(list(set(text)))\n",
    "  char_dict = {char: char_lst.index(char) for char in char_lst}\n",
    "  X = np.zeros((len(sentences), max_len, len(char_lst)), dtype=bool)\n",
    "  y = np.zeros((len(next_char), len(char_lst)), dtype=bool)\n",
    "  for i, sentence in enumerate(sentences):\n",
    "    for j, char in enumerate(sentence):\n",
    "      X[i, j, char_dict[char]] = 1\n",
    "    y[i, char_dict[next_char[i]]] = 1\n",
    "  return X, y, char_dict"
   ]
  },
  {
   "cell_type": "code",
   "execution_count": 6,
   "metadata": {},
   "outputs": [
    {
     "name": "stdout",
     "output_type": "stream",
     "text": [
      "Number of sequences: 200278\n",
      "Number of unique characters: 57\n"
     ]
    }
   ],
   "source": [
    "max_len = 60\n",
    "step = 3\n",
    "X, y, char_dict = preprocess_split(text_data, max_len, step)\n",
    "vocab_size = len(char_dict)\n",
    "print(\"Number of sequences: {0}\\nNumber of unique characters: {1}\".format(len(X), vocab_size))"
   ]
  },
  {
   "cell_type": "code",
   "execution_count": 7,
   "metadata": {},
   "outputs": [],
   "source": [
    "def build_model(max_len, vocab_size):\n",
    "  inputs = layers.Input(shape=(max_len, vocab_size))\n",
    "  x = layers.LSTM(128)(inputs)\n",
    "  output = layers.Dense(vocab_size, activation=tf.nn.softmax)(x)\n",
    "  model = Model(inputs, output)\n",
    "  model.compile(optimizer='adam', loss='categorical_crossentropy')\n",
    "  return model"
   ]
  },
  {
   "cell_type": "code",
   "execution_count": 17,
   "metadata": {},
   "outputs": [
    {
     "name": "stdout",
     "output_type": "stream",
     "text": [
      "WARNING:tensorflow:From c:\\Users\\mukun\\anaconda3\\lib\\site-packages\\keras\\src\\optimizers\\__init__.py:309: The name tf.train.Optimizer is deprecated. Please use tf.compat.v1.train.Optimizer instead.\n",
      "\n",
      "Model: \"model\"\n",
      "_________________________________________________________________\n",
      " Layer (type)                Output Shape              Param #   \n",
      "=================================================================\n",
      " input_1 (InputLayer)        [(None, 60, 57)]          0         \n",
      "                                                                 \n",
      " lstm (LSTM)                 (None, 128)               95232     \n",
      "                                                                 \n",
      " dense (Dense)               (None, 57)                7353      \n",
      "                                                                 \n",
      "=================================================================\n",
      "Total params: 102585 (400.72 KB)\n",
      "Trainable params: 102585 (400.72 KB)\n",
      "Non-trainable params: 0 (0.00 Byte)\n",
      "_________________________________________________________________\n"
     ]
    }
   ],
   "source": [
    "model = build_model(max_len, vocab_size)\n",
    "model.summary()"
   ]
  },
  {
   "cell_type": "code",
   "execution_count": 26,
   "metadata": {},
   "outputs": [
    {
     "data": {
      "text/plain": [
       "(200278, 60, 57)"
      ]
     },
     "execution_count": 26,
     "metadata": {},
     "output_type": "execute_result"
    }
   ],
   "source": [
    "X.shape"
   ]
  },
  {
   "cell_type": "code",
   "execution_count": 18,
   "metadata": {},
   "outputs": [
    {
     "name": "stdout",
     "output_type": "stream",
     "text": [
      "Epoch 1/15\n",
      "WARNING:tensorflow:From c:\\Users\\mukun\\anaconda3\\lib\\site-packages\\keras\\src\\utils\\tf_utils.py:492: The name tf.ragged.RaggedTensorValue is deprecated. Please use tf.compat.v1.ragged.RaggedTensorValue instead.\n",
      "\n",
      "1565/1565 [==============================] - 158s 100ms/step - loss: 2.5336\n",
      "Epoch 2/15\n",
      "1565/1565 [==============================] - 114s 73ms/step - loss: 2.1776\n",
      "Epoch 3/15\n",
      "1565/1565 [==============================] - 171s 109ms/step - loss: 2.0530\n",
      "Epoch 4/15\n",
      "1565/1565 [==============================] - 172s 110ms/step - loss: 1.9590\n",
      "Epoch 5/15\n",
      "1565/1565 [==============================] - 168s 108ms/step - loss: 1.8833\n",
      "Epoch 6/15\n",
      "1565/1565 [==============================] - 172s 110ms/step - loss: 1.8241\n",
      "Epoch 7/15\n",
      "1565/1565 [==============================] - 3378s 2s/step - loss: 1.7751\n",
      "Epoch 8/15\n",
      "1565/1565 [==============================] - 2911s 2s/step - loss: 1.7326\n",
      "Epoch 9/15\n",
      "1565/1565 [==============================] - 220s 140ms/step - loss: 1.6964\n",
      "Epoch 10/15\n",
      "1565/1565 [==============================] - 367s 235ms/step - loss: 1.6639\n",
      "Epoch 11/15\n",
      "1565/1565 [==============================] - 195s 125ms/step - loss: 1.6356\n",
      "Epoch 12/15\n",
      "1565/1565 [==============================] - 334s 213ms/step - loss: 1.6100\n",
      "Epoch 13/15\n",
      "1565/1565 [==============================] - 295s 188ms/step - loss: 1.5881\n",
      "Epoch 14/15\n",
      "1565/1565 [==============================] - 289s 185ms/step - loss: 1.5676\n",
      "Epoch 15/15\n",
      "1565/1565 [==============================] - 1806s 1s/step - loss: 1.5496\n"
     ]
    }
   ],
   "source": [
    "history = model.fit(X, y, epochs=15, batch_size=128)"
   ]
  },
  {
   "cell_type": "code",
   "execution_count": 20,
   "metadata": {},
   "outputs": [
    {
     "name": "stderr",
     "output_type": "stream",
     "text": [
      "c:\\Users\\mukun\\anaconda3\\lib\\site-packages\\keras\\src\\engine\\training.py:3103: UserWarning: You are saving your model as an HDF5 file via `model.save()`. This file format is considered legacy. We recommend using instead the native Keras format, e.g. `model.save('my_model.keras')`.\n",
      "  saving_api.save_model(\n"
     ]
    }
   ],
   "source": [
    "model = model.save('model.h5')"
   ]
  },
  {
   "cell_type": "code",
   "execution_count": 8,
   "metadata": {},
   "outputs": [
    {
     "name": "stdout",
     "output_type": "stream",
     "text": [
      "WARNING:tensorflow:From c:\\Users\\mukun\\anaconda3\\lib\\site-packages\\keras\\src\\backend.py:1398: The name tf.executing_eagerly_outside_functions is deprecated. Please use tf.compat.v1.executing_eagerly_outside_functions instead.\n",
      "\n"
     ]
    }
   ],
   "source": [
    "model = load_model('model.h5')"
   ]
  },
  {
   "cell_type": "code",
   "execution_count": 19,
   "metadata": {},
   "outputs": [
    {
     "name": "stdout",
     "output_type": "stream",
     "text": [
      "Model: \"model\"\n",
      "_________________________________________________________________\n",
      " Layer (type)                Output Shape              Param #   \n",
      "=================================================================\n",
      " input_1 (InputLayer)        [(None, 60, 57)]          0         \n",
      "                                                                 \n",
      " lstm (LSTM)                 (None, 128)               95232     \n",
      "                                                                 \n",
      " dense (Dense)               (None, 57)                7353      \n",
      "                                                                 \n",
      "=================================================================\n",
      "Total params: 102585 (400.72 KB)\n",
      "Trainable params: 102585 (400.72 KB)\n",
      "Non-trainable params: 0 (0.00 Byte)\n",
      "_________________________________________________________________\n"
     ]
    }
   ],
   "source": [
    "model.summary()"
   ]
  },
  {
   "cell_type": "code",
   "execution_count": 20,
   "metadata": {},
   "outputs": [],
   "source": [
    "def plot_learning_curve(history):\n",
    "  loss = history.history['loss']\n",
    "  epochs = [i for i, _ in enumerate(loss)]\n",
    "  plt.scatter(epochs, loss, color='skyblue')\n",
    "  plt.xlabel('Epochs'); plt.ylabel('Cross Entropy Loss')\n",
    "  plt.show()"
   ]
  },
  {
   "cell_type": "code",
   "execution_count": 21,
   "metadata": {},
   "outputs": [
    {
     "data": {
      "image/png": "[encoded data removed]",
      "text/plain": [
       "<Figure size 800x550 with 1 Axes>"
      ]
     },
     "metadata": {},
     "output_type": "display_data"
    }
   ],
   "source": [
    "plot_learning_curve(history)"
   ]
  },
  {
   "cell_type": "code",
   "execution_count": 22,
   "metadata": {},
   "outputs": [],
   "source": [
    "def random_predict(prediction, temperature):\n",
    "  prediction = np.asarray(prediction).astype('float64')\n",
    "  log_pred = np.log(prediction) / temperature\n",
    "  exp_pred = np.exp(log_pred)\n",
    "  final_pred = exp_pred / np.sum(exp_pred)\n",
    "  random_pred = np.random.multinomial(1, final_pred)\n",
    "  return random_pred"
   ]
  },
  {
   "cell_type": "code",
   "execution_count": 23,
   "metadata": {},
   "outputs": [],
   "source": [
    "def generate_text(model, data, iter_num, seed, char_dict, temperature=1, max_len=60):\n",
    "  entire_text = list(data[seed])\n",
    "  for i in range(iter_num):\n",
    "    prediction = random_predict(model.predict([[entire_text[i: i + max_len]]])[0], temperature)\n",
    "    entire_text.append(prediction)\n",
    "  reverse_char_dict = {value: key for key, value in char_dict.items()}\n",
    "  generated_text = ''\n",
    "  for char_vec in entire_text:\n",
    "    index = np.argmax(char_vec)\n",
    "    generated_text += reverse_char_dict[index]\n",
    "  return generated_text"
   ]
  },
  {
   "cell_type": "code",
   "execution_count": 24,
   "metadata": {},
   "outputs": [],
   "source": [
    "def vary_temperature(temp_lst, model, data, iter_num, seed, char_dict):\n",
    "  for temperature in temp_lst:\n",
    "    print(\"Generated text at temperature {0}:\\n{1}\\n\\n\".format(temperature, generate_text(model, data, iter_num, seed, char_dict, temperature)))"
   ]
  },
  {
   "cell_type": "code",
   "execution_count": 25,
   "metadata": {},
   "outputs": [
    {
     "ename": "ValueError",
     "evalue": "in user code:\n\n    File \"c:\\Users\\mukun\\anaconda3\\lib\\site-packages\\keras\\src\\engine\\training.py\", line 2440, in predict_function  *\n        return step_function(self, iterator)\n    File \"c:\\Users\\mukun\\anaconda3\\lib\\site-packages\\keras\\src\\engine\\training.py\", line 2425, in step_function  **\n        outputs = model.distribute_strategy.run(run_step, args=(data,))\n    File \"c:\\Users\\mukun\\anaconda3\\lib\\site-packages\\keras\\src\\engine\\training.py\", line 2413, in run_step  **\n        outputs = model.predict_step(data)\n    File \"c:\\Users\\mukun\\anaconda3\\lib\\site-packages\\keras\\src\\engine\\training.py\", line 2381, in predict_step\n        return self(x, training=False)\n    File \"c:\\Users\\mukun\\anaconda3\\lib\\site-packages\\keras\\src\\utils\\traceback_utils.py\", line 70, in error_handler\n        raise e.with_traceback(filtered_tb) from None\n    File \"c:\\Users\\mukun\\anaconda3\\lib\\site-packages\\keras\\src\\engine\\input_spec.py\", line 219, in assert_input_compatibility\n        raise ValueError(\n\n    ValueError: Layer \"model\" expects 1 input(s), but it received 60 input tensors. Inputs received: [<tf.Tensor 'IteratorGetNext:0' shape=(None,) dtype=bool>, <tf.Tensor 'IteratorGetNext:1' shape=(None,) dtype=bool>, <tf.Tensor 'IteratorGetNext:2' shape=(None,) dtype=bool>, <tf.Tensor 'IteratorGetNext:3' shape=(None,) dtype=bool>, <tf.Tensor 'IteratorGetNext:4' shape=(None,) dtype=bool>, <tf.Tensor 'IteratorGetNext:5' shape=(None,) dtype=bool>, <tf.Tensor 'IteratorGetNext:6' shape=(None,) dtype=bool>, <tf.Tensor 'IteratorGetNext:7' shape=(None,) dtype=bool>, <tf.Tensor 'IteratorGetNext:8' shape=(None,) dtype=bool>, <tf.Tensor 'IteratorGetNext:9' shape=(None,) dtype=bool>, <tf.Tensor 'IteratorGetNext:10' shape=(None,) dtype=bool>, <tf.Tensor 'IteratorGetNext:11' shape=(None,) dtype=bool>, <tf.Tensor 'IteratorGetNext:12' shape=(None,) dtype=bool>, <tf.Tensor 'IteratorGetNext:13' shape=(None,) dtype=bool>, <tf.Tensor 'IteratorGetNext:14' shape=(None,) dtype=bool>, <tf.Tensor 'IteratorGetNext:15' shape=(None,) dtype=bool>, <tf.Tensor 'IteratorGetNext:16' shape=(None,) dtype=bool>, <tf.Tensor 'IteratorGetNext:17' shape=(None,) dtype=bool>, <tf.Tensor 'IteratorGetNext:18' shape=(None,) dtype=bool>, <tf.Tensor 'IteratorGetNext:19' shape=(None,) dtype=bool>, <tf.Tensor 'IteratorGetNext:20' shape=(None,) dtype=bool>, <tf.Tensor 'IteratorGetNext:21' shape=(None,) dtype=bool>, <tf.Tensor 'IteratorGetNext:22' shape=(None,) dtype=bool>, <tf.Tensor 'IteratorGetNext:23' shape=(None,) dtype=bool>, <tf.Tensor 'IteratorGetNext:24' shape=(None,) dtype=bool>, <tf.Tensor 'IteratorGetNext:25' shape=(None,) dtype=bool>, <tf.Tensor 'IteratorGetNext:26' shape=(None,) dtype=bool>, <tf.Tensor 'IteratorGetNext:27' shape=(None,) dtype=bool>, <tf.Tensor 'IteratorGetNext:28' shape=(None,) dtype=bool>, <tf.Tensor 'IteratorGetNext:29' shape=(None,) dtype=bool>, <tf.Tensor 'IteratorGetNext:30' shape=(None,) dtype=bool>, <tf.Tensor 'IteratorGetNext:31' shape=(None,) dtype=bool>, <tf.Tensor 'IteratorGetNext:32' shape=(None,) dtype=bool>, <tf.Tensor 'IteratorGetNext:33' shape=(None,) dtype=bool>, <tf.Tensor 'IteratorGetNext:34' shape=(None,) dtype=bool>, <tf.Tensor 'IteratorGetNext:35' shape=(None,) dtype=bool>, <tf.Tensor 'IteratorGetNext:36' shape=(None,) dtype=bool>, <tf.Tensor 'IteratorGetNext:37' shape=(None,) dtype=bool>, <tf.Tensor 'IteratorGetNext:38' shape=(None,) dtype=bool>, <tf.Tensor 'IteratorGetNext:39' shape=(None,) dtype=bool>, <tf.Tensor 'IteratorGetNext:40' shape=(None,) dtype=bool>, <tf.Tensor 'IteratorGetNext:41' shape=(None,) dtype=bool>, <tf.Tensor 'IteratorGetNext:42' shape=(None,) dtype=bool>, <tf.Tensor 'IteratorGetNext:43' shape=(None,) dtype=bool>, <tf.Tensor 'IteratorGetNext:44' shape=(None,) dtype=bool>, <tf.Tensor 'IteratorGetNext:45' shape=(None,) dtype=bool>, <tf.Tensor 'IteratorGetNext:46' shape=(None,) dtype=bool>, <tf.Tensor 'IteratorGetNext:47' shape=(None,) dtype=bool>, <tf.Tensor 'IteratorGetNext:48' shape=(None,) dtype=bool>, <tf.Tensor 'IteratorGetNext:49' shape=(None,) dtype=bool>, <tf.Tensor 'IteratorGetNext:50' shape=(None,) dtype=bool>, <tf.Tensor 'IteratorGetNext:51' shape=(None,) dtype=bool>, <tf.Tensor 'IteratorGetNext:52' shape=(None,) dtype=bool>, <tf.Tensor 'IteratorGetNext:53' shape=(None,) dtype=bool>, <tf.Tensor 'IteratorGetNext:54' shape=(None,) dtype=bool>, <tf.Tensor 'IteratorGetNext:55' shape=(None,) dtype=bool>, <tf.Tensor 'IteratorGetNext:56' shape=(None,) dtype=bool>, <tf.Tensor 'IteratorGetNext:57' shape=(None,) dtype=bool>, <tf.Tensor 'IteratorGetNext:58' shape=(None,) dtype=bool>, <tf.Tensor 'IteratorGetNext:59' shape=(None,) dtype=bool>]\n",
     "output_type": "error",
     "traceback": [
      "\u001b[1;31m---------------------------------------------------------------------------\u001b[0m",
      "\u001b[1;31mValueError\u001b[0m                                Traceback (most recent call last)",
      "\u001b[1;32m~\\AppData\\Local\\Temp\\ipykernel_20388\\401248926.py\u001b[0m in \u001b[0;36m<module>\u001b[1;34m\u001b[0m\n\u001b[1;32m----> 1\u001b[1;33m \u001b[0mvary_temperature\u001b[0m\u001b[1;33m(\u001b[0m\u001b[1;33m[\u001b[0m\u001b[1;36m0.3\u001b[0m\u001b[1;33m,\u001b[0m \u001b[1;36m0.6\u001b[0m\u001b[1;33m,\u001b[0m \u001b[1;36m0.9\u001b[0m\u001b[1;33m,\u001b[0m \u001b[1;36m1.2\u001b[0m\u001b[1;33m]\u001b[0m\u001b[1;33m,\u001b[0m \u001b[0mmodel\u001b[0m\u001b[1;33m,\u001b[0m \u001b[0mX\u001b[0m\u001b[1;33m,\u001b[0m \u001b[1;36m1000\u001b[0m\u001b[1;33m,\u001b[0m \u001b[1;36m10\u001b[0m\u001b[1;33m,\u001b[0m \u001b[0mchar_dict\u001b[0m\u001b[1;33m)\u001b[0m\u001b[1;33m\u001b[0m\u001b[1;33m\u001b[0m\u001b[0m\n\u001b[0m",
      "\u001b[1;32m~\\AppData\\Local\\Temp\\ipykernel_20388\\1189206690.py\u001b[0m in \u001b[0;36mvary_temperature\u001b[1;34m(temp_lst, model, data, iter_num, seed, char_dict)\u001b[0m\n\u001b[0;32m      1\u001b[0m \u001b[1;32mdef\u001b[0m \u001b[0mvary_temperature\u001b[0m\u001b[1;33m(\u001b[0m\u001b[0mtemp_lst\u001b[0m\u001b[1;33m,\u001b[0m \u001b[0mmodel\u001b[0m\u001b[1;33m,\u001b[0m \u001b[0mdata\u001b[0m\u001b[1;33m,\u001b[0m \u001b[0miter_num\u001b[0m\u001b[1;33m,\u001b[0m \u001b[0mseed\u001b[0m\u001b[1;33m,\u001b[0m \u001b[0mchar_dict\u001b[0m\u001b[1;33m)\u001b[0m\u001b[1;33m:\u001b[0m\u001b[1;33m\u001b[0m\u001b[1;33m\u001b[0m\u001b[0m\n\u001b[0;32m      2\u001b[0m   \u001b[1;32mfor\u001b[0m \u001b[0mtemperature\u001b[0m \u001b[1;32min\u001b[0m \u001b[0mtemp_lst\u001b[0m\u001b[1;33m:\u001b[0m\u001b[1;33m\u001b[0m\u001b[1;33m\u001b[0m\u001b[0m\n\u001b[1;32m----> 3\u001b[1;33m     \u001b[0mprint\u001b[0m\u001b[1;33m(\u001b[0m\u001b[1;34m\"Generated text at temperature {0}:\\n{1}\\n\\n\"\u001b[0m\u001b[1;33m.\u001b[0m\u001b[0mformat\u001b[0m\u001b[1;33m(\u001b[0m\u001b[0mtemperature\u001b[0m\u001b[1;33m,\u001b[0m \u001b[0mgenerate_text\u001b[0m\u001b[1;33m(\u001b[0m\u001b[0mmodel\u001b[0m\u001b[1;33m,\u001b[0m \u001b[0mdata\u001b[0m\u001b[1;33m,\u001b[0m \u001b[0miter_num\u001b[0m\u001b[1;33m,\u001b[0m \u001b[0mseed\u001b[0m\u001b[1;33m,\u001b[0m \u001b[0mchar_dict\u001b[0m\u001b[1;33m,\u001b[0m \u001b[0mtemperature\u001b[0m\u001b[1;33m)\u001b[0m\u001b[1;33m)\u001b[0m\u001b[1;33m)\u001b[0m\u001b[1;33m\u001b[0m\u001b[1;33m\u001b[0m\u001b[0m\n\u001b[0m",
      "\u001b[1;32m~\\AppData\\Local\\Temp\\ipykernel_20388\\3492769245.py\u001b[0m in \u001b[0;36mgenerate_text\u001b[1;34m(model, data, iter_num, seed, char_dict, temperature, max_len)\u001b[0m\n\u001b[0;32m      2\u001b[0m   \u001b[0mentire_text\u001b[0m \u001b[1;33m=\u001b[0m \u001b[0mlist\u001b[0m\u001b[1;33m(\u001b[0m\u001b[0mdata\u001b[0m\u001b[1;33m[\u001b[0m\u001b[0mseed\u001b[0m\u001b[1;33m]\u001b[0m\u001b[1;33m)\u001b[0m\u001b[1;33m\u001b[0m\u001b[1;33m\u001b[0m\u001b[0m\n\u001b[0;32m      3\u001b[0m   \u001b[1;32mfor\u001b[0m \u001b[0mi\u001b[0m \u001b[1;32min\u001b[0m \u001b[0mrange\u001b[0m\u001b[1;33m(\u001b[0m\u001b[0miter_num\u001b[0m\u001b[1;33m)\u001b[0m\u001b[1;33m:\u001b[0m\u001b[1;33m\u001b[0m\u001b[1;33m\u001b[0m\u001b[0m\n\u001b[1;32m----> 4\u001b[1;33m     \u001b[0mprediction\u001b[0m \u001b[1;33m=\u001b[0m \u001b[0mrandom_predict\u001b[0m\u001b[1;33m(\u001b[0m\u001b[0mmodel\u001b[0m\u001b[1;33m.\u001b[0m\u001b[0mpredict\u001b[0m\u001b[1;33m(\u001b[0m\u001b[1;33m[\u001b[0m\u001b[1;33m[\u001b[0m\u001b[0mentire_text\u001b[0m\u001b[1;33m[\u001b[0m\u001b[0mi\u001b[0m\u001b[1;33m:\u001b[0m \u001b[0mi\u001b[0m \u001b[1;33m+\u001b[0m \u001b[0mmax_len\u001b[0m\u001b[1;33m]\u001b[0m\u001b[1;33m]\u001b[0m\u001b[1;33m]\u001b[0m\u001b[1;33m)\u001b[0m\u001b[1;33m[\u001b[0m\u001b[1;36m0\u001b[0m\u001b[1;33m]\u001b[0m\u001b[1;33m,\u001b[0m \u001b[0mtemperature\u001b[0m\u001b[1;33m)\u001b[0m\u001b[1;33m\u001b[0m\u001b[1;33m\u001b[0m\u001b[0m\n\u001b[0m\u001b[0;32m      5\u001b[0m     \u001b[0mentire_text\u001b[0m\u001b[1;33m.\u001b[0m\u001b[0mappend\u001b[0m\u001b[1;33m(\u001b[0m\u001b[0mprediction\u001b[0m\u001b[1;33m)\u001b[0m\u001b[1;33m\u001b[0m\u001b[1;33m\u001b[0m\u001b[0m\n\u001b[0;32m      6\u001b[0m   \u001b[0mreverse_char_dict\u001b[0m \u001b[1;33m=\u001b[0m \u001b[1;33m{\u001b[0m\u001b[0mvalue\u001b[0m\u001b[1;33m:\u001b[0m \u001b[0mkey\u001b[0m \u001b[1;32mfor\u001b[0m \u001b[0mkey\u001b[0m\u001b[1;33m,\u001b[0m \u001b[0mvalue\u001b[0m \u001b[1;32min\u001b[0m \u001b[0mchar_dict\u001b[0m\u001b[1;33m.\u001b[0m\u001b[0mitems\u001b[0m\u001b[1;33m(\u001b[0m\u001b[1;33m)\u001b[0m\u001b[1;33m}\u001b[0m\u001b[1;33m\u001b[0m\u001b[1;33m\u001b[0m\u001b[0m\n",
      "\u001b[1;32mc:\\Users\\mukun\\anaconda3\\lib\\site-packages\\keras\\src\\utils\\traceback_utils.py\u001b[0m in \u001b[0;36merror_handler\u001b[1;34m(*args, **kwargs)\u001b[0m\n\u001b[0;32m     68\u001b[0m             \u001b[1;31m# To get the full stack trace, call:\u001b[0m\u001b[1;33m\u001b[0m\u001b[1;33m\u001b[0m\u001b[0m\n\u001b[0;32m     69\u001b[0m             \u001b[1;31m# `tf.debugging.disable_traceback_filtering()`\u001b[0m\u001b[1;33m\u001b[0m\u001b[1;33m\u001b[0m\u001b[0m\n\u001b[1;32m---> 70\u001b[1;33m             \u001b[1;32mraise\u001b[0m \u001b[0me\u001b[0m\u001b[1;33m.\u001b[0m\u001b[0mwith_traceback\u001b[0m\u001b[1;33m(\u001b[0m\u001b[0mfiltered_tb\u001b[0m\u001b[1;33m)\u001b[0m \u001b[1;32mfrom\u001b[0m \u001b[1;32mNone\u001b[0m\u001b[1;33m\u001b[0m\u001b[1;33m\u001b[0m\u001b[0m\n\u001b[0m\u001b[0;32m     71\u001b[0m         \u001b[1;32mfinally\u001b[0m\u001b[1;33m:\u001b[0m\u001b[1;33m\u001b[0m\u001b[1;33m\u001b[0m\u001b[0m\n\u001b[0;32m     72\u001b[0m             \u001b[1;32mdel\u001b[0m \u001b[0mfiltered_tb\u001b[0m\u001b[1;33m\u001b[0m\u001b[1;33m\u001b[0m\u001b[0m\n",
      "\u001b[1;32mc:\\Users\\mukun\\anaconda3\\lib\\site-packages\\keras\\src\\engine\\training.py\u001b[0m in \u001b[0;36mtf__predict_function\u001b[1;34m(iterator)\u001b[0m\n\u001b[0;32m     13\u001b[0m                 \u001b[1;32mtry\u001b[0m\u001b[1;33m:\u001b[0m\u001b[1;33m\u001b[0m\u001b[1;33m\u001b[0m\u001b[0m\n\u001b[0;32m     14\u001b[0m                     \u001b[0mdo_return\u001b[0m \u001b[1;33m=\u001b[0m \u001b[1;32mTrue\u001b[0m\u001b[1;33m\u001b[0m\u001b[1;33m\u001b[0m\u001b[0m\n\u001b[1;32m---> 15\u001b[1;33m                     \u001b[0mretval_\u001b[0m \u001b[1;33m=\u001b[0m \u001b[0mag__\u001b[0m\u001b[1;33m.\u001b[0m\u001b[0mconverted_call\u001b[0m\u001b[1;33m(\u001b[0m\u001b[0mag__\u001b[0m\u001b[1;33m.\u001b[0m\u001b[0mld\u001b[0m\u001b[1;33m(\u001b[0m\u001b[0mstep_function\u001b[0m\u001b[1;33m)\u001b[0m\u001b[1;33m,\u001b[0m \u001b[1;33m(\u001b[0m\u001b[0mag__\u001b[0m\u001b[1;33m.\u001b[0m\u001b[0mld\u001b[0m\u001b[1;33m(\u001b[0m\u001b[0mself\u001b[0m\u001b[1;33m)\u001b[0m\u001b[1;33m,\u001b[0m \u001b[0mag__\u001b[0m\u001b[1;33m.\u001b[0m\u001b[0mld\u001b[0m\u001b[1;33m(\u001b[0m\u001b[0miterator\u001b[0m\u001b[1;33m)\u001b[0m\u001b[1;33m)\u001b[0m\u001b[1;33m,\u001b[0m \u001b[1;32mNone\u001b[0m\u001b[1;33m,\u001b[0m \u001b[0mfscope\u001b[0m\u001b[1;33m)\u001b[0m\u001b[1;33m\u001b[0m\u001b[1;33m\u001b[0m\u001b[0m\n\u001b[0m\u001b[0;32m     16\u001b[0m                 \u001b[1;32mexcept\u001b[0m\u001b[1;33m:\u001b[0m\u001b[1;33m\u001b[0m\u001b[1;33m\u001b[0m\u001b[0m\n\u001b[0;32m     17\u001b[0m                     \u001b[0mdo_return\u001b[0m \u001b[1;33m=\u001b[0m \u001b[1;32mFalse\u001b[0m\u001b[1;33m\u001b[0m\u001b[1;33m\u001b[0m\u001b[0m\n",
      "\u001b[1;31mValueError\u001b[0m: in user code:\n\n    File \"c:\\Users\\mukun\\anaconda3\\lib\\site-packages\\keras\\src\\engine\\training.py\", line 2440, in predict_function  *\n        return step_function(self, iterator)\n    File \"c:\\Users\\mukun\\anaconda3\\lib\\site-packages\\keras\\src\\engine\\training.py\", line 2425, in step_function  **\n        outputs = model.distribute_strategy.run(run_step, args=(data,))\n    File \"c:\\Users\\mukun\\anaconda3\\lib\\site-packages\\keras\\src\\engine\\training.py\", line 2413, in run_step  **\n        outputs = model.predict_step(data)\n    File \"c:\\Users\\mukun\\anaconda3\\lib\\site-packages\\keras\\src\\engine\\training.py\", line 2381, in predict_step\n        return self(x, training=False)\n    File \"c:\\Users\\mukun\\anaconda3\\lib\\site-packages\\keras\\src\\utils\\traceback_utils.py\", line 70, in error_handler\n        raise e.with_traceback(filtered_tb) from None\n    File \"c:\\Users\\mukun\\anaconda3\\lib\\site-packages\\keras\\src\\engine\\input_spec.py\", line 219, in assert_input_compatibility\n        raise ValueError(\n\n    ValueError: Layer \"model\" expects 1 input(s), but it received 60 input tensors. Inputs received: [<tf.Tensor 'IteratorGetNext:0' shape=(None,) dtype=bool>, <tf.Tensor 'IteratorGetNext:1' shape=(None,) dtype=bool>, <tf.Tensor 'IteratorGetNext:2' shape=(None,) dtype=bool>, <tf.Tensor 'IteratorGetNext:3' shape=(None,) dtype=bool>, <tf.Tensor 'IteratorGetNext:4' shape=(None,) dtype=bool>, <tf.Tensor 'IteratorGetNext:5' shape=(None,) dtype=bool>, <tf.Tensor 'IteratorGetNext:6' shape=(None,) dtype=bool>, <tf.Tensor 'IteratorGetNext:7' shape=(None,) dtype=bool>, <tf.Tensor 'IteratorGetNext:8' shape=(None,) dtype=bool>, <tf.Tensor 'IteratorGetNext:9' shape=(None,) dtype=bool>, <tf.Tensor 'IteratorGetNext:10' shape=(None,) dtype=bool>, <tf.Tensor 'IteratorGetNext:11' shape=(None,) dtype=bool>, <tf.Tensor 'IteratorGetNext:12' shape=(None,) dtype=bool>, <tf.Tensor 'IteratorGetNext:13' shape=(None,) dtype=bool>, <tf.Tensor 'IteratorGetNext:14' shape=(None,) dtype=bool>, <tf.Tensor 'IteratorGetNext:15' shape=(None,) dtype=bool>, <tf.Tensor 'IteratorGetNext:16' shape=(None,) dtype=bool>, <tf.Tensor 'IteratorGetNext:17' shape=(None,) dtype=bool>, <tf.Tensor 'IteratorGetNext:18' shape=(None,) dtype=bool>, <tf.Tensor 'IteratorGetNext:19' shape=(None,) dtype=bool>, <tf.Tensor 'IteratorGetNext:20' shape=(None,) dtype=bool>, <tf.Tensor 'IteratorGetNext:21' shape=(None,) dtype=bool>, <tf.Tensor 'IteratorGetNext:22' shape=(None,) dtype=bool>, <tf.Tensor 'IteratorGetNext:23' shape=(None,) dtype=bool>, <tf.Tensor 'IteratorGetNext:24' shape=(None,) dtype=bool>, <tf.Tensor 'IteratorGetNext:25' shape=(None,) dtype=bool>, <tf.Tensor 'IteratorGetNext:26' shape=(None,) dtype=bool>, <tf.Tensor 'IteratorGetNext:27' shape=(None,) dtype=bool>, <tf.Tensor 'IteratorGetNext:28' shape=(None,) dtype=bool>, <tf.Tensor 'IteratorGetNext:29' shape=(None,) dtype=bool>, <tf.Tensor 'IteratorGetNext:30' shape=(None,) dtype=bool>, <tf.Tensor 'IteratorGetNext:31' shape=(None,) dtype=bool>, <tf.Tensor 'IteratorGetNext:32' shape=(None,) dtype=bool>, <tf.Tensor 'IteratorGetNext:33' shape=(None,) dtype=bool>, <tf.Tensor 'IteratorGetNext:34' shape=(None,) dtype=bool>, <tf.Tensor 'IteratorGetNext:35' shape=(None,) dtype=bool>, <tf.Tensor 'IteratorGetNext:36' shape=(None,) dtype=bool>, <tf.Tensor 'IteratorGetNext:37' shape=(None,) dtype=bool>, <tf.Tensor 'IteratorGetNext:38' shape=(None,) dtype=bool>, <tf.Tensor 'IteratorGetNext:39' shape=(None,) dtype=bool>, <tf.Tensor 'IteratorGetNext:40' shape=(None,) dtype=bool>, <tf.Tensor 'IteratorGetNext:41' shape=(None,) dtype=bool>, <tf.Tensor 'IteratorGetNext:42' shape=(None,) dtype=bool>, <tf.Tensor 'IteratorGetNext:43' shape=(None,) dtype=bool>, <tf.Tensor 'IteratorGetNext:44' shape=(None,) dtype=bool>, <tf.Tensor 'IteratorGetNext:45' shape=(None,) dtype=bool>, <tf.Tensor 'IteratorGetNext:46' shape=(None,) dtype=bool>, <tf.Tensor 'IteratorGetNext:47' shape=(None,) dtype=bool>, <tf.Tensor 'IteratorGetNext:48' shape=(None,) dtype=bool>, <tf.Tensor 'IteratorGetNext:49' shape=(None,) dtype=bool>, <tf.Tensor 'IteratorGetNext:50' shape=(None,) dtype=bool>, <tf.Tensor 'IteratorGetNext:51' shape=(None,) dtype=bool>, <tf.Tensor 'IteratorGetNext:52' shape=(None,) dtype=bool>, <tf.Tensor 'IteratorGetNext:53' shape=(None,) dtype=bool>, <tf.Tensor 'IteratorGetNext:54' shape=(None,) dtype=bool>, <tf.Tensor 'IteratorGetNext:55' shape=(None,) dtype=bool>, <tf.Tensor 'IteratorGetNext:56' shape=(None,) dtype=bool>, <tf.Tensor 'IteratorGetNext:57' shape=(None,) dtype=bool>, <tf.Tensor 'IteratorGetNext:58' shape=(None,) dtype=bool>, <tf.Tensor 'IteratorGetNext:59' shape=(None,) dtype=bool>]\n"
     ]
    }
   ],
   "source": [
    "vary_temperature([0.3, 0.6, 0.9, 1.2], model, X, 1000, 10, char_dict)"
   ]
  }
 ],
 "metadata": {
  "kernelspec": {
   "display_name": "base",
   "language": "python",
   "name": "python3"
  },
  "language_info": {
   "codemirror_mode": {
    "name": "ipython",
    "version": 3
   },
   "file_extension": ".py",
   "mimetype": "text/x-python",
   "name": "python",
   "nbconvert_exporter": "python",
   "pygments_lexer": "ipython3",
   "version": "3.9.13"
  }
 },
 "nbformat": 4,
 "nbformat_minor": 2
}
